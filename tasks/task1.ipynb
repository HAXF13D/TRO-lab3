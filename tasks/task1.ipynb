{
 "cells": [
  {
   "cell_type": "markdown",
   "id": "2197c492",
   "metadata": {},
   "source": [
    "### Примеры со своими значениями:"
   ]
  },
  {
   "cell_type": "code",
   "execution_count": 1,
   "id": "c7a652f1",
   "metadata": {},
   "outputs": [],
   "source": [
    "import numpy as np"
   ]
  },
  {
   "cell_type": "markdown",
   "id": "2bda611a",
   "metadata": {},
   "source": [
    "#### Вектор:"
   ]
  },
  {
   "cell_type": "markdown",
   "id": "94ec8bc2",
   "metadata": {},
   "source": [
    "##### Вектор-строка:"
   ]
  },
  {
   "cell_type": "code",
   "execution_count": 2,
   "id": "07491084",
   "metadata": {},
   "outputs": [
    {
     "name": "stdout",
     "output_type": "stream",
     "text": [
      "[2 3]\n"
     ]
    }
   ],
   "source": [
    "v_hor_np = np.array([2, 3])\n",
    "print(v_hor_np )"
   ]
  },
  {
   "cell_type": "code",
   "execution_count": 3,
   "id": "52decf93",
   "metadata": {},
   "outputs": [
    {
     "name": "stdout",
     "output_type": "stream",
     "text": [
      "[0. 0. 0. 0. 0. 0.]\n"
     ]
    }
   ],
   "source": [
    "v_hor_zeros_v1 = np.zeros((6,))\n",
    "print(v_hor_zeros_v1 )"
   ]
  },
  {
   "cell_type": "code",
   "execution_count": 4,
   "id": "f52dbdc2",
   "metadata": {},
   "outputs": [
    {
     "name": "stdout",
     "output_type": "stream",
     "text": [
      "[[0. 0. 0. 0. 0. 0.]]\n"
     ]
    }
   ],
   "source": [
    "v_hor_zeros_v2 = np.zeros((1, 6))\n",
    "print(v_hor_zeros_v2 )"
   ]
  },
  {
   "cell_type": "code",
   "execution_count": 5,
   "id": "22fb6def",
   "metadata": {},
   "outputs": [
    {
     "name": "stdout",
     "output_type": "stream",
     "text": [
      "[1. 1. 1. 1. 1. 1.]\n",
      "[[1. 1. 1. 1. 1. 1.]]\n"
     ]
    }
   ],
   "source": [
    "v_hor_one_v1 = np.ones((6,))\n",
    "print(v_hor_one_v1)\n",
    "v_hor_one_v2 = np.ones((1, 6))\n",
    "print(v_hor_one_v2)"
   ]
  },
  {
   "cell_type": "markdown",
   "id": "412e9a15",
   "metadata": {},
   "source": [
    "##### Вектор-столбец:"
   ]
  },
  {
   "cell_type": "code",
   "execution_count": 6,
   "id": "87190a8d",
   "metadata": {},
   "outputs": [
    {
     "name": "stdout",
     "output_type": "stream",
     "text": [
      "[[3]\n",
      " [4]]\n"
     ]
    }
   ],
   "source": [
    "v_vert_np = np.array([[3], [4]])\n",
    "print(v_vert_np)"
   ]
  },
  {
   "cell_type": "code",
   "execution_count": 7,
   "id": "42686a08",
   "metadata": {},
   "outputs": [
    {
     "name": "stdout",
     "output_type": "stream",
     "text": [
      "[[0.]\n",
      " [0.]\n",
      " [0.]\n",
      " [0.]\n",
      " [0.]\n",
      " [0.]]\n"
     ]
    }
   ],
   "source": [
    "v_vert_zeros = np.zeros((6, 1))\n",
    "print(v_vert_zeros)"
   ]
  },
  {
   "cell_type": "code",
   "execution_count": 8,
   "id": "e2ab849f",
   "metadata": {},
   "outputs": [
    {
     "name": "stdout",
     "output_type": "stream",
     "text": [
      "[[1.]\n",
      " [1.]\n",
      " [1.]\n",
      " [1.]\n",
      " [1.]\n",
      " [1.]]\n"
     ]
    }
   ],
   "source": [
    "v_vert_ones = np.ones((6, 1))\n",
    "print(v_vert_ones)"
   ]
  },
  {
   "cell_type": "markdown",
   "id": "92906754",
   "metadata": {},
   "source": [
    "#### Квадратная матрица:"
   ]
  },
  {
   "cell_type": "code",
   "execution_count": 9,
   "id": "b30c33b7",
   "metadata": {},
   "outputs": [
    {
     "name": "stdout",
     "output_type": "stream",
     "text": [
      "[[ 2  3  4]\n",
      " [ 5  6  7]\n",
      " [ 8  9 10]]\n"
     ]
    }
   ],
   "source": [
    "m_sqr_arr = np.array([[2, 3, 4], [5, 6, 7], [8, 9, 10]])\n",
    "print(m_sqr_arr)"
   ]
  },
  {
   "cell_type": "code",
   "execution_count": 10,
   "id": "4bf6c0a7",
   "metadata": {},
   "outputs": [
    {
     "name": "stdout",
     "output_type": "stream",
     "text": [
      "[[ 2  3  4]\n",
      " [ 5  6  7]\n",
      " [ 8  9 10]]\n"
     ]
    }
   ],
   "source": [
    "m_sqr = [[2, 3, 4], [5, 6, 7], [8, 9, 10]]\n",
    "m_sqr_arr = np.array(m_sqr)\n",
    "print(m_sqr_arr)"
   ]
  },
  {
   "cell_type": "code",
   "execution_count": 11,
   "id": "2c6d0321",
   "metadata": {},
   "outputs": [
    {
     "name": "stdout",
     "output_type": "stream",
     "text": [
      "[[ 2  3  4]\n",
      " [ 5  6  7]\n",
      " [ 8  9 10]]\n"
     ]
    }
   ],
   "source": [
    "m_sqr_mx = np.matrix([[2, 3, 4], [5, 6, 7], [8, 9, 10]])\n",
    "print(m_sqr_mx)"
   ]
  },
  {
   "cell_type": "code",
   "execution_count": 12,
   "id": "c1f7013e",
   "metadata": {},
   "outputs": [
    {
     "name": "stdout",
     "output_type": "stream",
     "text": [
      "[[ 2  3  4]\n",
      " [ 5  6  7]\n",
      " [ 8  9 10]]\n"
     ]
    }
   ],
   "source": [
    "m_sqr_mx = np.matrix('2 3 4; 5 6 7; 8 9 10')\n",
    "print(m_sqr_mx)"
   ]
  },
  {
   "cell_type": "markdown",
   "id": "459d2864",
   "metadata": {},
   "source": [
    "##### Диагональная матрица:"
   ]
  },
  {
   "cell_type": "code",
   "execution_count": 13,
   "id": "d781f6b8",
   "metadata": {},
   "outputs": [
    {
     "name": "stdout",
     "output_type": "stream",
     "text": [
      "[[1 0 0]\n",
      " [0 2 0]\n",
      " [0 0 3]]\n"
     ]
    }
   ],
   "source": [
    "m_diag = [[1, 0, 0], [0, 2, 0], [0, 0, 3]]\n",
    "m_diag_np = np.matrix(m_diag)\n",
    "print(m_diag_np)"
   ]
  },
  {
   "cell_type": "code",
   "execution_count": 14,
   "id": "744c2d20",
   "metadata": {},
   "outputs": [],
   "source": [
    "m_sqr_mx = np.matrix('2 3 4; 5 6 7; 8 9 10')"
   ]
  },
  {
   "cell_type": "code",
   "execution_count": 15,
   "id": "40f2be1a",
   "metadata": {},
   "outputs": [
    {
     "name": "stdout",
     "output_type": "stream",
     "text": [
      "[ 2  6 10]\n"
     ]
    }
   ],
   "source": [
    "diag = np.diag(m_sqr_mx)\n",
    "print(diag)"
   ]
  },
  {
   "cell_type": "code",
   "execution_count": 16,
   "id": "b8e959be",
   "metadata": {},
   "outputs": [
    {
     "name": "stdout",
     "output_type": "stream",
     "text": [
      "[[ 2  0  0]\n",
      " [ 0  6  0]\n",
      " [ 0  0 10]]\n"
     ]
    }
   ],
   "source": [
    "m_diag_np = np.diag(np.diag(m_sqr_mx))\n",
    "print(m_diag_np)"
   ]
  },
  {
   "cell_type": "markdown",
   "id": "5d2b96d0",
   "metadata": {},
   "source": [
    "##### Единичная матрица:"
   ]
  },
  {
   "cell_type": "code",
   "execution_count": 17,
   "id": "4f49265c",
   "metadata": {},
   "outputs": [
    {
     "name": "stdout",
     "output_type": "stream",
     "text": [
      "[[1 0 0 0]\n",
      " [0 1 0 0]\n",
      " [0 0 1 0]\n",
      " [0 0 0 1]]\n"
     ]
    }
   ],
   "source": [
    "m_e = [[1, 0, 0, 0], [0, 1, 0, 0], [0, 0, 1, 0], [0, 0, 0, 1]]\n",
    "m_e_np = np.matrix(m_e)\n",
    "print(m_e_np)"
   ]
  },
  {
   "cell_type": "code",
   "execution_count": 18,
   "id": "fc3da336",
   "metadata": {},
   "outputs": [
    {
     "name": "stdout",
     "output_type": "stream",
     "text": [
      "[[1. 0. 0. 0.]\n",
      " [0. 1. 0. 0.]\n",
      " [0. 0. 1. 0.]\n",
      " [0. 0. 0. 1.]]\n"
     ]
    }
   ],
   "source": [
    "m_eye = np.eye(4)\n",
    "print(m_eye)"
   ]
  },
  {
   "cell_type": "code",
   "execution_count": 19,
   "id": "fecbe6ef",
   "metadata": {},
   "outputs": [
    {
     "name": "stdout",
     "output_type": "stream",
     "text": [
      "[[1. 0. 0. 0.]\n",
      " [0. 1. 0. 0.]\n",
      " [0. 0. 1. 0.]\n",
      " [0. 0. 0. 1.]]\n"
     ]
    }
   ],
   "source": [
    "m_idnt = np.identity(4)\n",
    "print(m_idnt)"
   ]
  },
  {
   "cell_type": "markdown",
   "id": "982d8a23",
   "metadata": {},
   "source": [
    "##### Нулевая матрица:"
   ]
  },
  {
   "cell_type": "code",
   "execution_count": 20,
   "id": "b0771e0b",
   "metadata": {},
   "outputs": [
    {
     "name": "stdout",
     "output_type": "stream",
     "text": [
      "[[0. 0. 0. 0.]\n",
      " [0. 0. 0. 0.]\n",
      " [0. 0. 0. 0.]\n",
      " [0. 0. 0. 0.]]\n"
     ]
    }
   ],
   "source": [
    "m_zeros = np.zeros((4, 4))\n",
    "print(m_zeros)"
   ]
  },
  {
   "cell_type": "markdown",
   "id": "06a16222",
   "metadata": {},
   "source": [
    "##### Задание матрицы в общем виде:"
   ]
  },
  {
   "cell_type": "code",
   "execution_count": 21,
   "id": "4b2b05c6",
   "metadata": {},
   "outputs": [
    {
     "name": "stdout",
     "output_type": "stream",
     "text": [
      "[[2 3 4]\n",
      " [5 6 7]]\n"
     ]
    }
   ],
   "source": [
    "m_mx = np.matrix('2 3 4; 5 6 7')\n",
    "print(m_mx)"
   ]
  },
  {
   "cell_type": "code",
   "execution_count": 22,
   "id": "4ce80b87",
   "metadata": {},
   "outputs": [
    {
     "name": "stdout",
     "output_type": "stream",
     "text": [
      "[[0. 0. 0. 0.]\n",
      " [0. 0. 0. 0.]\n",
      " [0. 0. 0. 0.]]\n"
     ]
    }
   ],
   "source": [
    "m_var = np.zeros((3, 4))\n",
    "print(m_var)"
   ]
  },
  {
   "cell_type": "markdown",
   "id": "0745c631",
   "metadata": {},
   "source": [
    "##### Транспонирование матрицы:"
   ]
  },
  {
   "cell_type": "code",
   "execution_count": 23,
   "id": "d63c5032",
   "metadata": {},
   "outputs": [
    {
     "name": "stdout",
     "output_type": "stream",
     "text": [
      "[[2 3 4]\n",
      " [5 6 7]]\n"
     ]
    }
   ],
   "source": [
    "A = np.matrix('2 3 4; 5 6 7')\n",
    "print(A)"
   ]
  },
  {
   "cell_type": "code",
   "execution_count": 24,
   "id": "47d7f1d1",
   "metadata": {},
   "outputs": [
    {
     "name": "stdout",
     "output_type": "stream",
     "text": [
      "[[2 5]\n",
      " [3 6]\n",
      " [4 7]]\n"
     ]
    }
   ],
   "source": [
    "A_t = A.transpose()\n",
    "print(A_t)"
   ]
  },
  {
   "cell_type": "code",
   "execution_count": 25,
   "id": "412e5bf6",
   "metadata": {},
   "outputs": [
    {
     "name": "stdout",
     "output_type": "stream",
     "text": [
      "[[2 5]\n",
      " [3 6]\n",
      " [4 7]]\n"
     ]
    }
   ],
   "source": [
    "print(A.T)"
   ]
  },
  {
   "cell_type": "code",
   "execution_count": 26,
   "id": "01f25972",
   "metadata": {},
   "outputs": [
    {
     "name": "stdout",
     "output_type": "stream",
     "text": [
      "[[2 3 4]\n",
      " [5 6 7]]\n",
      "[[2 3 4]\n",
      " [5 6 7]]\n"
     ]
    }
   ],
   "source": [
    "A = np.matrix('2 3 4; 5 6 7')\n",
    "print(A)\n",
    "R = (A.T).T\n",
    "print(R)"
   ]
  },
  {
   "cell_type": "code",
   "execution_count": 27,
   "id": "5803ef8d",
   "metadata": {},
   "outputs": [
    {
     "name": "stdout",
     "output_type": "stream",
     "text": [
      "[[ 6 12]\n",
      " [ 8 14]\n",
      " [10 16]]\n",
      "[[ 6 12]\n",
      " [ 8 14]\n",
      " [10 16]]\n"
     ]
    }
   ],
   "source": [
    "A = np.matrix('2 3 4; 5 6 7')\n",
    "B = np.matrix('4 5 6; 7 8 9')\n",
    "L = (A + B).T\n",
    "R = A.T + B.T\n",
    "print(L)\n",
    "print(R)"
   ]
  },
  {
   "cell_type": "code",
   "execution_count": 28,
   "id": "7a2c85b6",
   "metadata": {},
   "outputs": [
    {
     "name": "stdout",
     "output_type": "stream",
     "text": [
      "[[29 62]\n",
      " [34 73]]\n",
      "[[29 62]\n",
      " [34 73]]\n"
     ]
    }
   ],
   "source": [
    "A = np.matrix('2 3; 5 6')\n",
    "B = np.matrix('4 5; 7 8')\n",
    "L = (A.dot(B)).T\n",
    "R = (B.T).dot(A.T)\n",
    "print(L)\n",
    "print(R)"
   ]
  },
  {
   "cell_type": "code",
   "execution_count": 29,
   "id": "ab9446b1",
   "metadata": {},
   "outputs": [
    {
     "name": "stdout",
     "output_type": "stream",
     "text": [
      "[[12 21]\n",
      " [15 24]\n",
      " [18 27]]\n",
      "[[12 21]\n",
      " [15 24]\n",
      " [18 27]]\n"
     ]
    }
   ],
   "source": [
    "A = np.matrix('4 5 6; 7 8 9')\n",
    "k = 3\n",
    "L = (k * A).T\n",
    "R = k * (A.T)\n",
    "print(L)\n",
    "print(R)"
   ]
  },
  {
   "cell_type": "code",
   "execution_count": 30,
   "id": "9abd50ba",
   "metadata": {},
   "outputs": [
    {
     "name": "stdout",
     "output_type": "stream",
     "text": [
      "-3\n",
      "-3\n"
     ]
    }
   ],
   "source": [
    "A = np.matrix('2 3; 5 6')\n",
    "A_det = np.linalg.det(A)\n",
    "A_T_det = np.linalg.det(A.T)\n",
    "print(format(A_det, '.9g'))\n",
    "print(format(A_T_det, '.9g'))"
   ]
  },
  {
   "cell_type": "markdown",
   "id": "3b2b701e",
   "metadata": {},
   "source": [
    "#### Действия над матрицами:"
   ]
  },
  {
   "cell_type": "markdown",
   "id": "8503b0c4",
   "metadata": {},
   "source": [
    "##### Умножение матрицы на число:"
   ]
  },
  {
   "cell_type": "code",
   "execution_count": 31,
   "id": "a1c16fa5",
   "metadata": {},
   "outputs": [
    {
     "name": "stdout",
     "output_type": "stream",
     "text": [
      "[[12 15 18]\n",
      " [21 24 27]]\n"
     ]
    }
   ],
   "source": [
    "A = np.matrix('4 5 6; 7 8 9')\n",
    "C = 3 * A\n",
    "print(C)"
   ]
  },
  {
   "cell_type": "code",
   "execution_count": 32,
   "id": "7975db44",
   "metadata": {},
   "outputs": [
    {
     "name": "stdout",
     "output_type": "stream",
     "text": [
      "[[2 3]\n",
      " [5 6]]\n",
      "[[2 3]\n",
      " [5 6]]\n"
     ]
    }
   ],
   "source": [
    "A = np.matrix('2 3; 5 6')\n",
    "L = 1 * A\n",
    "R = A\n",
    "print(L)\n",
    "print(R)"
   ]
  },
  {
   "cell_type": "code",
   "execution_count": 33,
   "id": "bd7458ed",
   "metadata": {},
   "outputs": [
    {
     "name": "stdout",
     "output_type": "stream",
     "text": [
      "[[0 0]\n",
      " [0 0]]\n",
      "[[0 0]\n",
      " [0 0]]\n"
     ]
    }
   ],
   "source": [
    "A = np.matrix('2 3; 5 6')\n",
    "Z = np.matrix('0 0; 0 0')\n",
    "L = 0 * A\n",
    "R = Z\n",
    "print(L)\n",
    "print(R)"
   ]
  },
  {
   "cell_type": "code",
   "execution_count": 34,
   "id": "6a889e14",
   "metadata": {},
   "outputs": [
    {
     "name": "stdout",
     "output_type": "stream",
     "text": [
      "[[10 15]\n",
      " [25 30]]\n",
      "[[10 15]\n",
      " [25 30]]\n"
     ]
    }
   ],
   "source": [
    "A = np.matrix('2 3; 5 6')\n",
    "p = 2\n",
    "q = 3\n",
    "L = (p + q) * A\n",
    "R = p * A + q * A\n",
    "print(L)\n",
    "print(R)"
   ]
  },
  {
   "cell_type": "code",
   "execution_count": 35,
   "id": "927c9858",
   "metadata": {},
   "outputs": [
    {
     "name": "stdout",
     "output_type": "stream",
     "text": [
      "[[12 18]\n",
      " [30 36]]\n",
      "[[12 18]\n",
      " [30 36]]\n"
     ]
    }
   ],
   "source": [
    "A = np.matrix('2 3; 5 6')\n",
    "p = 2\n",
    "q = 3\n",
    "L = (p * q) * A\n",
    "R = p * (q * A)\n",
    "print(L)\n",
    "print(R)"
   ]
  },
  {
   "cell_type": "code",
   "execution_count": 36,
   "id": "8e47f88c",
   "metadata": {},
   "outputs": [
    {
     "name": "stdout",
     "output_type": "stream",
     "text": [
      "[[18 24]\n",
      " [36 42]]\n",
      "[[18 24]\n",
      " [36 42]]\n"
     ]
    }
   ],
   "source": [
    "A = np.matrix('2 3; 5 6')\n",
    "B = np.matrix('4 5; 7 8')\n",
    "k = 3\n",
    "L = k * (A + B)\n",
    "R = k * A + k * B\n",
    "print(L)\n",
    "print(R)"
   ]
  },
  {
   "cell_type": "markdown",
   "id": "5070a7e2",
   "metadata": {},
   "source": [
    "##### Сложение матриц:"
   ]
  },
  {
   "cell_type": "code",
   "execution_count": 37,
   "id": "5a6e504f",
   "metadata": {},
   "outputs": [
    {
     "name": "stdout",
     "output_type": "stream",
     "text": [
      "[[12  6 11]\n",
      " [13 17 21]]\n"
     ]
    }
   ],
   "source": [
    "A = np.matrix('4 5 6; 7 8 9')\n",
    "B = np.matrix('8 1 5; 6 9 12')\n",
    "C = A + B\n",
    "print(C)"
   ]
  },
  {
   "cell_type": "code",
   "execution_count": 38,
   "id": "50104cbe",
   "metadata": {},
   "outputs": [
    {
     "name": "stdout",
     "output_type": "stream",
     "text": [
      "[[ 7  9]\n",
      " [12 14]]\n",
      "[[ 7  9]\n",
      " [12 14]]\n"
     ]
    }
   ],
   "source": [
    "A = np.matrix('2 3; 5 6')\n",
    "B = np.matrix('5 6; 7 8')\n",
    "L = A + B\n",
    "R = B + A\n",
    "print(L)\n",
    "print(R)"
   ]
  },
  {
   "cell_type": "code",
   "execution_count": 39,
   "id": "dabef5ce",
   "metadata": {},
   "outputs": [
    {
     "name": "stdout",
     "output_type": "stream",
     "text": [
      "[[14 17]\n",
      " [21 17]]\n",
      "[[14 17]\n",
      " [21 17]]\n"
     ]
    }
   ],
   "source": [
    "A = np.matrix('2 3; 5 6')\n",
    "B = np.matrix('5 6; 7 8')\n",
    "C = np.matrix('7 8; 9 3')\n",
    "L = A + (B + C)\n",
    "R = (A + B) + C\n",
    "print(L)\n",
    "print(R)"
   ]
  },
  {
   "cell_type": "code",
   "execution_count": 40,
   "id": "07395344",
   "metadata": {},
   "outputs": [
    {
     "name": "stdout",
     "output_type": "stream",
     "text": [
      "[[0 0]\n",
      " [0 0]]\n",
      "[[0 0]\n",
      " [0 0]]\n"
     ]
    }
   ],
   "source": [
    "A = np.matrix('5 6; 7 8')\n",
    "Z = np.matrix('0 0; 0 0')\n",
    "L = A + (-1)*A\n",
    "print(L)\n",
    "print(Z)"
   ]
  },
  {
   "cell_type": "markdown",
   "id": "671bd38b",
   "metadata": {},
   "source": [
    "##### Умножение матриц:"
   ]
  },
  {
   "cell_type": "code",
   "execution_count": 41,
   "id": "a0595ea6",
   "metadata": {},
   "outputs": [
    {
     "name": "stdout",
     "output_type": "stream",
     "text": [
      "[[25]\n",
      " [73]]\n"
     ]
    }
   ],
   "source": [
    "A = np.matrix('1 2; 4 5')\n",
    "B = np.matrix('7; 9')\n",
    "C = A.dot(B)\n",
    "print(C)"
   ]
  },
  {
   "cell_type": "code",
   "execution_count": 42,
   "id": "88632f65",
   "metadata": {},
   "outputs": [
    {
     "name": "stdout",
     "output_type": "stream",
     "text": [
      "[[192 252]\n",
      " [436 572]]\n",
      "[[192 252]\n",
      " [436 572]]\n"
     ]
    }
   ],
   "source": [
    "A = np.matrix('1 2; 3 4')\n",
    "B = np.matrix('5 6; 7 8')\n",
    "C = np.matrix('2 4; 7 8')\n",
    "L = A.dot(B.dot(C))\n",
    "R = (A.dot(B)).dot(C)\n",
    "print(L)\n",
    "print(R)"
   ]
  },
  {
   "cell_type": "code",
   "execution_count": 43,
   "id": "bb0e9fdd",
   "metadata": {},
   "outputs": [
    {
     "name": "stdout",
     "output_type": "stream",
     "text": [
      "[[ 56  68]\n",
      " [119 146]]\n",
      "[[ 56  68]\n",
      " [119 146]]\n"
     ]
    }
   ],
   "source": [
    "A = np.matrix('2 3; 5 6')\n",
    "B = np.matrix('5 6; 7 8')\n",
    "C = np.matrix('2 4; 7 8')\n",
    "L = A.dot(B + C)\n",
    "R = A.dot(B) + A.dot(C)\n",
    "print(L)\n",
    "print(R)"
   ]
  },
  {
   "cell_type": "code",
   "execution_count": 44,
   "id": "33f3c2ca",
   "metadata": {},
   "outputs": [
    {
     "name": "stdout",
     "output_type": "stream",
     "text": [
      "[[31 36]\n",
      " [67 78]]\n",
      "[[40 51]\n",
      " [54 69]]\n"
     ]
    }
   ],
   "source": [
    "A = np.matrix('2 3; 5 6')\n",
    "B = np.matrix('5 6; 7 8')\n",
    "L = A.dot(B)\n",
    "R = B.dot(A)\n",
    "print(L)\n",
    "print(R)"
   ]
  },
  {
   "cell_type": "code",
   "execution_count": 45,
   "id": "8c105c93",
   "metadata": {},
   "outputs": [
    {
     "name": "stdout",
     "output_type": "stream",
     "text": [
      "[[2 3]\n",
      " [5 6]]\n",
      "[[2 3]\n",
      " [5 6]]\n",
      "[[2 3]\n",
      " [5 6]]\n"
     ]
    }
   ],
   "source": [
    "A = np.matrix('2 3; 5 6')\n",
    "E = np.matrix('1 0; 0 1')\n",
    "L = E.dot(A)\n",
    "R = A.dot(E)\n",
    "print(L)\n",
    "print(R)\n",
    "print(A)"
   ]
  },
  {
   "cell_type": "code",
   "execution_count": 46,
   "id": "845335f2",
   "metadata": {},
   "outputs": [
    {
     "name": "stdout",
     "output_type": "stream",
     "text": [
      "[[0 0]\n",
      " [0 0]]\n",
      "[[0 0]\n",
      " [0 0]]\n",
      "[[0 0]\n",
      " [0 0]]\n"
     ]
    }
   ],
   "source": [
    "A = np.matrix('2 3; 5 6')\n",
    "Z = np.matrix('0 0; 0 0')\n",
    "L = Z.dot(A)\n",
    "R = A.dot(Z)\n",
    "print(L)\n",
    "print(R)\n",
    "print(Z)"
   ]
  },
  {
   "cell_type": "markdown",
   "id": "524f9a1a",
   "metadata": {},
   "source": [
    "#### Определитель матрицы:"
   ]
  },
  {
   "cell_type": "code",
   "execution_count": 47,
   "id": "cf8368df",
   "metadata": {},
   "outputs": [
    {
     "name": "stdout",
     "output_type": "stream",
     "text": [
      "[[-4 -1  1]\n",
      " [ 1  4 -1]\n",
      " [ 4  3  1]]\n"
     ]
    }
   ],
   "source": [
    "A = np.matrix('-4 -1 1; 1 4 -1; 4 3 1')\n",
    "print(A)"
   ]
  },
  {
   "cell_type": "code",
   "execution_count": 48,
   "id": "752bcfde",
   "metadata": {},
   "outputs": [
    {
     "data": {
      "text/plain": [
       "-36.0"
      ]
     },
     "execution_count": 48,
     "metadata": {},
     "output_type": "execute_result"
    }
   ],
   "source": [
    "np.linalg.det(A)"
   ]
  },
  {
   "cell_type": "code",
   "execution_count": 49,
   "id": "db009983",
   "metadata": {},
   "outputs": [
    {
     "name": "stdout",
     "output_type": "stream",
     "text": [
      "[[-4 -1  1]\n",
      " [ 1  4 -1]\n",
      " [ 4  3  1]]\n",
      "[[-4  1  4]\n",
      " [-1  4  3]\n",
      " [ 1 -1  1]]\n",
      "-36.0\n",
      "-36.0\n"
     ]
    }
   ],
   "source": [
    "A = np.matrix('-4 -1 1; 1 4 -1; 4 3 1')\n",
    "print(A)\n",
    "print(A.T)\n",
    "det_A = round(np.linalg.det(A), 3)\n",
    "det_A_t = round(np.linalg.det(A.T), 3)\n",
    "print(det_A)\n",
    "print(det_A_t)"
   ]
  },
  {
   "cell_type": "code",
   "execution_count": 50,
   "id": "5ff26a44",
   "metadata": {},
   "outputs": [
    {
     "name": "stdout",
     "output_type": "stream",
     "text": [
      "[[-4 -1  1]\n",
      " [ 1  4 -1]\n",
      " [ 4  3  1]]\n"
     ]
    },
    {
     "data": {
      "text/plain": [
       "-36.0"
      ]
     },
     "execution_count": 50,
     "metadata": {},
     "output_type": "execute_result"
    }
   ],
   "source": [
    "A = np.matrix('-4 -1 1; 1 4 -1; 4 3 1')\n",
    "print(A)\n",
    "np.linalg.det(A)"
   ]
  },
  {
   "cell_type": "code",
   "execution_count": 51,
   "id": "1ba374b7",
   "metadata": {},
   "outputs": [
    {
     "name": "stdout",
     "output_type": "stream",
     "text": [
      "[[-4 -1  1]\n",
      " [ 1  4 -1]\n",
      " [ 4  3  1]]\n",
      "[[10  3 -1]\n",
      " [-4 -1  2]\n",
      " [ 2  3  1]]\n"
     ]
    },
    {
     "data": {
      "text/plain": [
       "-36.0"
      ]
     },
     "execution_count": 51,
     "metadata": {},
     "output_type": "execute_result"
    }
   ],
   "source": [
    "A = np.matrix('-4 -1 1; 1 4 -1; 4 3 1')\n",
    "print(A)\n",
    "B = np.matrix('10 3 -1; -4 -1 2; 2 3 1')\n",
    "print(B)\n",
    "round(np.linalg.det(A), 3)\n",
    "round(np.linalg.det(B), 3)"
   ]
  },
  {
   "cell_type": "code",
   "execution_count": 52,
   "id": "d8b01969",
   "metadata": {},
   "outputs": [
    {
     "name": "stdout",
     "output_type": "stream",
     "text": [
      "[[-4 -1  1]\n",
      " [ 1  4 -1]\n",
      " [ 4  3  1]]\n"
     ]
    },
    {
     "data": {
      "text/plain": [
       "-36.0"
      ]
     },
     "execution_count": 52,
     "metadata": {},
     "output_type": "execute_result"
    }
   ],
   "source": [
    "A = np.matrix('-4 -1 1; 1 4 -1; 4 3 1')\n",
    "print(A)\n",
    "np.linalg.det(A)"
   ]
  },
  {
   "cell_type": "code",
   "execution_count": 53,
   "id": "db2e3fa1",
   "metadata": {},
   "outputs": [
    {
     "name": "stdout",
     "output_type": "stream",
     "text": [
      "[[-4 -1  1]\n",
      " [ 1  4 -1]\n",
      " [ 4  3  1]]\n",
      "[[-4 -1  1]\n",
      " [ 1  4 -1]\n",
      " [ 8  6  2]]\n"
     ]
    },
    {
     "data": {
      "text/plain": [
       "-72.0"
      ]
     },
     "execution_count": 53,
     "metadata": {},
     "output_type": "execute_result"
    }
   ],
   "source": [
    "A = np.matrix('-4 -1 1; 1 4 -1; 4 3 1')\n",
    "print(A)\n",
    "k = 2\n",
    "B = A.copy()\n",
    "B[2, :] = k * B[2, :]\n",
    "print(B)\n",
    "det_A = round(np.linalg.det(A), 3)\n",
    "det_B = round(np.linalg.det(B), 3)\n",
    "det_A * k\n",
    "det_B"
   ]
  },
  {
   "cell_type": "code",
   "execution_count": 54,
   "id": "4d5fed5d",
   "metadata": {},
   "outputs": [
    {
     "name": "stdout",
     "output_type": "stream",
     "text": [
      "[[-5 -1  2]\n",
      " [-2  3  1]\n",
      " [ 8  3  1]]\n",
      "[[-5 -1  2]\n",
      " [-3 -1  2]\n",
      " [ 8  3  1]]\n",
      "[[-4 -1  1]\n",
      " [ 1  4 -1]\n",
      " [ 4  3  1]]\n"
     ]
    },
    {
     "data": {
      "text/plain": [
       "-22.0"
      ]
     },
     "execution_count": 54,
     "metadata": {},
     "output_type": "execute_result"
    }
   ],
   "source": [
    "A = np.matrix('-5 -1 2; -3 -1 2; 8 3 1')\n",
    "B = np.matrix('-4 -1 1; 1 4 -1; 4 3 1')\n",
    "C = A.copy()\n",
    "C[1, :] += B[1, :]\n",
    "print(C)\n",
    "print(A)\n",
    "print(B)\n",
    "round(np.linalg.det(C), 3)\n",
    "round(np.linalg.det(A), 3) + round(np.linalg.det(B), 3)"
   ]
  },
  {
   "cell_type": "code",
   "execution_count": 55,
   "id": "a074f850",
   "metadata": {},
   "outputs": [
    {
     "name": "stdout",
     "output_type": "stream",
     "text": [
      "[[-4 -1  1]\n",
      " [ 1  4 -1]\n",
      " [ 4  3  1]]\n",
      "[[-4 -1  1]\n",
      " [-7  2  1]\n",
      " [ 4  3  1]]\n"
     ]
    },
    {
     "data": {
      "text/plain": [
       "-36.0"
      ]
     },
     "execution_count": 55,
     "metadata": {},
     "output_type": "execute_result"
    }
   ],
   "source": [
    "A = np.matrix('-4 -1 1; 1 4 -1; 4 3 1')\n",
    "k = 2\n",
    "B = A.copy()\n",
    "B[1, :] = B[1, :] + k * B[0, :]\n",
    "print(A)\n",
    "print(B)\n",
    "round(np.linalg.det(A), 3)\n",
    "round(np.linalg.det(B), 3)"
   ]
  },
  {
   "cell_type": "code",
   "execution_count": 56,
   "id": "e435af27",
   "metadata": {},
   "outputs": [
    {
     "name": "stdout",
     "output_type": "stream",
     "text": [
      "[[-4 -1  1]\n",
      " [ 1  4 -1]\n",
      " [ 4  3  1]]\n"
     ]
    },
    {
     "data": {
      "text/plain": [
       "0.0"
      ]
     },
     "execution_count": 56,
     "metadata": {},
     "output_type": "execute_result"
    }
   ],
   "source": [
    "A = np.matrix('-4 -1 1; 1 4 -1; 4 3 1')\n",
    "print(A)\n",
    "k = 2\n",
    "A[1, :] = A[0, :] + k * A[2, :]\n",
    "round(np.linalg.det(A), 3)"
   ]
  },
  {
   "cell_type": "code",
   "execution_count": 57,
   "id": "0908abb5",
   "metadata": {},
   "outputs": [
    {
     "name": "stdout",
     "output_type": "stream",
     "text": [
      "[[-4 -1  2]\n",
      " [10  4 -1]\n",
      " [ 8  3  1]]\n",
      "[[-4 -1  2]\n",
      " [-8 -2  4]\n",
      " [ 8  3  1]]\n"
     ]
    },
    {
     "data": {
      "text/plain": [
       "0.0"
      ]
     },
     "execution_count": 57,
     "metadata": {},
     "output_type": "execute_result"
    }
   ],
   "source": [
    "A = np.matrix('-4 -1 2; 10 4 -1; 8 3 1')\n",
    "print(A)\n",
    "k = 2\n",
    "A[1, :] = k * A[0, :]\n",
    "print(A)\n",
    "round(np.linalg.det(A), 3)"
   ]
  },
  {
   "cell_type": "markdown",
   "id": "04ad7ee7",
   "metadata": {},
   "source": [
    "#### Обратная матрица:"
   ]
  },
  {
   "cell_type": "code",
   "execution_count": 58,
   "id": "9970e6cf",
   "metadata": {},
   "outputs": [
    {
     "name": "stdout",
     "output_type": "stream",
     "text": [
      "[[-0.33333333 -0.05555556  0.72222222]\n",
      " [-0.          0.16666667 -0.16666667]\n",
      " [ 0.33333333  0.13888889 -0.30555556]]\n"
     ]
    }
   ],
   "source": [
    "A = np.matrix('1 -3 4; 2 5 2; 2 -1 2')\n",
    "A_inv = np.linalg.inv(A)\n",
    "print(A_inv)"
   ]
  },
  {
   "cell_type": "code",
   "execution_count": 59,
   "id": "99c8440e",
   "metadata": {},
   "outputs": [
    {
     "name": "stdout",
     "output_type": "stream",
     "text": [
      "[[ 1 -3  4]\n",
      " [ 2  5  2]\n",
      " [ 2 -1  2]]\n",
      "[[ 1. -3.  4.]\n",
      " [ 2.  5.  2.]\n",
      " [ 2. -1.  2.]]\n"
     ]
    }
   ],
   "source": [
    "A = np.matrix('1 -3 4; 2 5 2; 2 -1 2')\n",
    "A_inv = np.linalg.inv(A)\n",
    "A_inv_inv = np.linalg.inv(A_inv)\n",
    "print(A)\n",
    "print(A_inv_inv)"
   ]
  },
  {
   "cell_type": "code",
   "execution_count": 60,
   "id": "f6667e0b",
   "metadata": {},
   "outputs": [
    {
     "name": "stdout",
     "output_type": "stream",
     "text": [
      "[[-3.33333333e-01  1.38777878e-17  3.33333333e-01]\n",
      " [-5.55555556e-02  1.66666667e-01  1.38888889e-01]\n",
      " [ 7.22222222e-01 -1.66666667e-01 -3.05555556e-01]]\n",
      "[[-0.33333333 -0.          0.33333333]\n",
      " [-0.05555556  0.16666667  0.13888889]\n",
      " [ 0.72222222 -0.16666667 -0.30555556]]\n"
     ]
    }
   ],
   "source": [
    "A = np.matrix('1 -3 4; 2 5 2; 2 -1 2')\n",
    "L = np.linalg.inv(A.T)\n",
    "R = (np.linalg.inv(A)).T\n",
    "print(L)\n",
    "print(R)"
   ]
  },
  {
   "cell_type": "code",
   "execution_count": 61,
   "id": "215c34a2",
   "metadata": {},
   "outputs": [
    {
     "name": "stdout",
     "output_type": "stream",
     "text": [
      "[[ 0.05882353  0.01960784 -0.07843137]\n",
      " [ 0.44444444 -0.00925926 -0.71296296]\n",
      " [ 0.12418301 -0.02342048 -0.15631808]]\n",
      "[[ 0.05882353  0.01960784 -0.07843137]\n",
      " [ 0.44444444 -0.00925926 -0.71296296]\n",
      " [ 0.12418301 -0.02342048 -0.15631808]]\n"
     ]
    }
   ],
   "source": [
    "A = np.matrix('1 -3 4; 2 5 2; 2 -1 2')\n",
    "B = np.matrix('1 -2 4; 3 1 -5; 9 -1 2')\n",
    "L = np.linalg.inv(A.dot(B))\n",
    "R = np.linalg.inv(B).dot(np.linalg.inv(A))\n",
    "print(L)\n",
    "print(R)"
   ]
  },
  {
   "cell_type": "markdown",
   "id": "a98a8524",
   "metadata": {},
   "source": [
    "#### Ранг матрицы:"
   ]
  },
  {
   "cell_type": "code",
   "execution_count": 62,
   "id": "e11dd2fe",
   "metadata": {},
   "outputs": [
    {
     "name": "stdout",
     "output_type": "stream",
     "text": [
      "[[1. 0. 0.]\n",
      " [0. 1. 0.]\n",
      " [0. 0. 1.]]\n"
     ]
    }
   ],
   "source": [
    "m_eye = np.eye(3)\n",
    "print(m_eye)"
   ]
  },
  {
   "cell_type": "code",
   "execution_count": 63,
   "id": "e5344a7b",
   "metadata": {},
   "outputs": [
    {
     "name": "stdout",
     "output_type": "stream",
     "text": [
      "3\n"
     ]
    }
   ],
   "source": [
    "rank = np.linalg.matrix_rank(m_eye)\n",
    "print(rank)"
   ]
  },
  {
   "cell_type": "code",
   "execution_count": 64,
   "id": "b51602d1",
   "metadata": {},
   "outputs": [
    {
     "name": "stdout",
     "output_type": "stream",
     "text": [
      "[[1. 0. 0.]\n",
      " [0. 1. 0.]\n",
      " [0. 0. 0.]]\n",
      "2\n"
     ]
    }
   ],
   "source": [
    "m_eye[2][2] = 0\n",
    "print(m_eye)\n",
    "rank = np.linalg.matrix_rank(m_eye)\n",
    "print(rank)"
   ]
  }
 ],
 "metadata": {
  "kernelspec": {
   "display_name": "Python 3",
   "language": "python",
   "name": "python3"
  },
  "language_info": {
   "codemirror_mode": {
    "name": "ipython",
    "version": 3
   },
   "file_extension": ".py",
   "mimetype": "text/x-python",
   "name": "python",
   "nbconvert_exporter": "python",
   "pygments_lexer": "ipython3",
   "version": "3.8.8"
  }
 },
 "nbformat": 4,
 "nbformat_minor": 5
}
