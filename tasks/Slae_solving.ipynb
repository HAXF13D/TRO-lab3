{
 "cells": [
  {
   "cell_type": "markdown",
   "id": "c24832fa",
   "metadata": {},
   "source": [
    "## Решение СЛАУ"
   ]
  },
  {
   "cell_type": "markdown",
   "id": "de003f2d",
   "metadata": {},
   "source": [
    "### Задание начальных условий:"
   ]
  },
  {
   "cell_type": "code",
   "execution_count": 1,
   "id": "d0f5959d",
   "metadata": {},
   "outputs": [],
   "source": [
    "import numpy as np"
   ]
  },
  {
   "cell_type": "code",
   "execution_count": 2,
   "id": "a890e2ff",
   "metadata": {},
   "outputs": [
    {
     "name": "stdout",
     "output_type": "stream",
     "text": [
      "Количество неизвестных: 4\n"
     ]
    }
   ],
   "source": [
    "n = int(input(\"Количество неизвестных: \"))"
   ]
  },
  {
   "cell_type": "code",
   "execution_count": 3,
   "id": "c5ee2ebf",
   "metadata": {},
   "outputs": [
    {
     "name": "stdout",
     "output_type": "stream",
     "text": [
      "[[-10  -2  -5   2]\n",
      " [ -2   6   4  -9]\n",
      " [  7  -3  -7  -1]\n",
      " [ -2   4   0  -3]]\n",
      "[[-8]\n",
      " [-4]\n",
      " [-9]\n",
      " [ 1]]\n"
     ]
    }
   ],
   "source": [
    "A = np.random.randint(-10, 10, size=(n, n))\n",
    "B = np.random.randint(-10, 10, size=(n, 1))\n",
    "print(A)\n",
    "print(B)"
   ]
  },
  {
   "cell_type": "markdown",
   "id": "5ac3218a",
   "metadata": {},
   "source": [
    "### Матричный метод:"
   ]
  },
  {
   "cell_type": "code",
   "execution_count": 4,
   "id": "9bc9c6ec",
   "metadata": {},
   "outputs": [
    {
     "name": "stdout",
     "output_type": "stream",
     "text": [
      "[[0.46909871 1.91888412 0.65922747 1.91244635]]\n"
     ]
    }
   ],
   "source": [
    "ans = np.linalg.inv(A).dot(B)\n",
    "print(ans.reshape(1, n))"
   ]
  },
  {
   "cell_type": "markdown",
   "id": "e2f40ce4",
   "metadata": {},
   "source": [
    "### Метод Крамера:"
   ]
  },
  {
   "cell_type": "code",
   "execution_count": 5,
   "id": "65667de9",
   "metadata": {},
   "outputs": [
    {
     "name": "stdout",
     "output_type": "stream",
     "text": [
      "[0.46909871 1.91888412 0.65922747 1.91244635]\n"
     ]
    }
   ],
   "source": [
    "ans = np.array([])\n",
    "A_det = np.linalg.det(A)\n",
    "for i in range(n):\n",
    "    A_cp = A.copy()\n",
    "    A_cp[::, i] = B.reshape(1, n)\n",
    "    det_x = np.linalg.det(A_cp)\n",
    "    x = det_x / A_det\n",
    "    ans = np.append(ans, x)\n",
    "print(ans)"
   ]
  }
 ],
 "metadata": {
  "kernelspec": {
   "display_name": "Python 3",
   "language": "python",
   "name": "python3"
  },
  "language_info": {
   "codemirror_mode": {
    "name": "ipython",
    "version": 3
   },
   "file_extension": ".py",
   "mimetype": "text/x-python",
   "name": "python",
   "nbconvert_exporter": "python",
   "pygments_lexer": "ipython3",
   "version": "3.8.8"
  }
 },
 "nbformat": 4,
 "nbformat_minor": 5
}
